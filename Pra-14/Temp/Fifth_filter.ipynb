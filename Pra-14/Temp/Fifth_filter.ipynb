{
 "cells": [
  {
   "cell_type": "code",
   "execution_count": 33,
   "metadata": {},
   "outputs": [
    {
     "name": "stdout",
     "output_type": "stream",
     "text": [
      "did you mean:  ['The Hobbit: The Battle of the Five Armies', 'The Hobbit: The Desolation of Smaug', 'The Hobbit: An Unexpected Journey']\n",
      "\n",
      "Movie Id: 49051\n",
      "Movie Name: The Hobbit: An Unexpected Journey\n",
      "Movie Overview: Bilbo Baggins, a hobbit enjoying his quiet life, is swept into an epic quest by Gandalf the Grey and thirteen dwarves who seek to reclaim their mountain home from Smaug, the dragon.\n",
      "\n",
      "Movie Id: 57158\n",
      "Movie Name: The Hobbit: The Desolation of Smaug\n",
      "Movie Overview: The Dwarves, Bilbo and Gandalf have successfully escaped the Misty Mountains, and Bilbo has gained the One Ring. They all continue their journey to get their gold back from the Dragon, Smaug.\n",
      "\n",
      "Movie Id: 766\n",
      "Movie Name: Army of Darkness\n",
      "Movie Overview: A man is accidentally transported to 1300 A.D., where he must battle an army of the dead and retrieve the Necronomicon so he can return home.\n",
      "\n",
      "Movie Id: 1271\n",
      "Movie Name: 300\n",
      "Movie Overview: Based on Frank Miller's graphic novel, \"300\" is very loosely based the 480 B.C. Battle of Thermopylae, where the King of Sparta led his army against the advancing Persians; the battle is said to have inspired all of Greece to band together against the Persians, and helped usher in the world's first democracy.\n",
      "\n",
      "Movie Id: 121\n",
      "Movie Name: The Lord of the Rings: The Two Towers\n",
      "Movie Overview: Frodo and Sam are trekking to Mordor to destroy the One Ring of Power while Gimli, Legolas and Aragorn search for the orc-captured Merry and Pippin. All along, nefarious wizard Saruman awaits the Fellowship members at the Orthanc Tower in Isengard.\n",
      "\n",
      "Movie Id: 10336\n",
      "Movie Name: Spawn\n",
      "Movie Overview: After being murdered by corrupt colleagues in a covert government agency, Al Simmons (Michael Jai White) makes a pact with the devil to be resurrected to see his beloved wife Wanda (Theresa Randle). In exchange for his return to Earth, Simmons agrees to lead Hell's Army in the destruction of mankind.\n",
      "\n"
     ]
    }
   ],
   "source": [
    "import pandas as pd\n",
    "import ast\n",
    "\n",
    "ds = pd.read_csv(\"../perfect_datasets/perfect_dataset_v2.csv\")\n",
    "ds_overview = pd.read_csv(\"../perfect_datasets/perfect_dataset_v1_overview.csv\")\n",
    "# ds_title = pd.read_csv(\"../perfect_datasets/perfect_dataset_v1_title.csv\")\n",
    "similarity = pd.read_csv(\"D:/DATA_Sets/fourth.csv\")\n",
    "\n",
    "temp = pd.DataFrame()\n",
    "temp[\"title\"] = similarity[\"name\"].str.lower().str.split()\n",
    "temp[\"title\"] = similarity[\"name\"].apply(lambda x: x.replace(\":\", \" :\"))\n",
    "\n",
    "for_sugg = pd.DataFrame()\n",
    "for_sugg[\"title\"] = similarity[\"name\"].str.lower().str.split()\n",
    "for_sugg[\"title\"] = similarity[\"name\"].apply(lambda x: x.replace(\"\", \"\"))\n",
    "\n",
    "movie_sugg = []\n",
    "c = 0\n",
    "\n",
    "def recommend(movie):\n",
    "    global c\n",
    "    if(ds[ds[\"title\"].str.lower() == movie.lower()].empty):\n",
    "        for i in temp[\"title\"]:\n",
    "            tmp = i.split(\",\")\n",
    "            movi = tmp[0].lower().split()\n",
    "            if(movie.lower() in movi) and c==0:\n",
    "                movie_sugg.append(tmp[0].replace(\" :\", \":\"))\n",
    "        print(\"did you mean: \", movie_sugg, end=\"\\n\\n\") if c==0 else print(\"No movie found\")\n",
    "        c = 1\n",
    "        return\n",
    "    elif(movie == \"\"):\n",
    "        print(\"Enter a movie name\")\n",
    "        return\n",
    "    \n",
    "    # temp[\"title\"] = temp[\"title\"].apply(lambda x: x.split(\",\"))\n",
    "    for_sugg[\"title\"] = for_sugg[\"title\"].apply(lambda x: x.split(\",\"))\n",
    "    \n",
    "    index = ds[(ds[\"title\"].str.lower()) == movie.lower()].index[0]\n",
    "\n",
    "    moviess =  for_sugg[\"title\"][index][1:]\n",
    "    for i in moviess:\n",
    "        index2 = ds[(ds[\"title\"].str.lower()) == i.lower()].index[0]\n",
    "        print(\"Movie Id:\",ds.iloc[index2][\"movie_id\"])\n",
    "        print(\"Movie Name:\",i.replace(\" :\", \":\"))\n",
    "        print(\"Movie Overview:\",ds_overview.iloc[index2][\"overview\"], end=\"\\n\\n\")\n",
    "    \n",
    "inp = str(input(\"Enter the movie name: \"))\n",
    "recommend(inp)\n",
    "\n",
    "\n",
    "if movie_sugg != []:\n",
    "        movie_re_input = str(input(\"Enter the movie name: \"))\n",
    "        recommend(movie_re_input)\n"
   ]
  }
 ],
 "metadata": {
  "kernelspec": {
   "display_name": "base",
   "language": "python",
   "name": "python3"
  },
  "language_info": {
   "codemirror_mode": {
    "name": "ipython",
    "version": 3
   },
   "file_extension": ".py",
   "mimetype": "text/x-python",
   "name": "python",
   "nbconvert_exporter": "python",
   "pygments_lexer": "ipython3",
   "version": "3.11.4"
  }
 },
 "nbformat": 4,
 "nbformat_minor": 2
}
