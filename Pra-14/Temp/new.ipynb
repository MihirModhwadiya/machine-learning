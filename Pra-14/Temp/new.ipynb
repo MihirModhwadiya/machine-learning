{
 "cells": [
  {
   "cell_type": "code",
   "execution_count": null,
   "metadata": {},
   "outputs": [],
   "source": [
    "import pandas as pd\n",
    "\n",
    "ds = pd.read_csv(\"./perfect_datasets/perfect_dataset_v2.csv\")\n",
    "ds_overview = pd.read_csv(\"./perfect_datasets/perfect_dataset_v1_overview.csv\")\n",
    "similarity = pd.read_csv(\"./perfect_datasets/perfect_datasets_v4.csv\")\n",
    "\n",
    "def find_similar_movies(movie_name):\n",
    "    similar_movies = []\n",
    "    for title in similarity[\"name\"]:\n",
    "        if movie_name.lower() in title.lower():\n",
    "            similar_movies.append(title)\n",
    "    \n",
    "    if len(similar_movies) == 0:\n",
    "        print(\"No movie found\")\n",
    "    else:\n",
    "        print(\"Did you mean:\")\n",
    "        for i in range(2):\n",
    "            print(similar_movies[i])\n",
    "\n",
    "def recommend(movie):\n",
    "    if movie == \"\":\n",
    "        print(\"Enter a movie name\")\n",
    "    else:\n",
    "        index = ds[ds[\"title\"].str.lower() == movie.lower()].index\n",
    "        print(\"------------>\",type(index))\n",
    "        print(\"------------>\",len(index) == 0)\n",
    "        if len(index) == 0:\n",
    "            find_similar_movies(movie)\n",
    "        else:\n",
    "            index = index[0]\n",
    "            moviess = similarity[\"name\"].str.split(\",\")\n",
    "            for i in moviess[index][1:]:\n",
    "                i = i.replace(\" :\", \":\")\n",
    "                index2 = ds[ds[\"title\"].str.lower() == i.lower()].index[0]\n",
    "                print(\"Movie Id:\", ds.iloc[index2][\"movie_id\"])\n",
    "                print(\"Movie Name:\", i)\n",
    "                print(\"Movie Overview:\", ds_overview.iloc[index2][\"overview\"])\n",
    "    \n",
    "inp = input(\"Enter the movie name: \")\n",
    "recommend(inp)\n"
   ]
  }
 ],
 "metadata": {
  "language_info": {
   "name": "python"
  }
 },
 "nbformat": 4,
 "nbformat_minor": 2
}
