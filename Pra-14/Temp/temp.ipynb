{
 "cells": [
  {
   "cell_type": "code",
   "execution_count": 35,
   "metadata": {},
   "outputs": [
    {
     "data": {
      "text/plain": [
       "('The Remains of the Day', 79, 2499)"
      ]
     },
     "execution_count": 35,
     "metadata": {},
     "output_type": "execute_result"
    }
   ],
   "source": [
    "from fuzzywuzzy import fuzz\n",
    "from fuzzywuzzy import process\n",
    "import pandas as pd\n",
    "\n",
    "ds = pd.read_csv(\"perfect_datasets/perfect_dataset_v3.csv\")\n",
    "\n",
    "ds[\"title\"]\n",
    "\n",
    "threshold = 70\n",
    "\n",
    "best_match = process.extractOne(\"the lord of the rings\", ds[\"title\"], scorer=fuzz.token_sort_ratio)\n",
    "best_match"
   ]
  }
 ],
 "metadata": {
  "kernelspec": {
   "display_name": "base",
   "language": "python",
   "name": "python3"
  },
  "language_info": {
   "codemirror_mode": {
    "name": "ipython",
    "version": 3
   },
   "file_extension": ".py",
   "mimetype": "text/x-python",
   "name": "python",
   "nbconvert_exporter": "python",
   "pygments_lexer": "ipython3",
   "version": "3.11.4"
  }
 },
 "nbformat": 4,
 "nbformat_minor": 2
}
