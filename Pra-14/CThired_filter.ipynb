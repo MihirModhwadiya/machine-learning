{
 "cells": [
  {
   "cell_type": "code",
   "execution_count": 1,
   "metadata": {},
   "outputs": [],
   "source": [
    "import pandas as pd\n",
    "import ast\n",
    "# from sklearn.feature_extraction.text import CountVectorizer\n",
    "from nltk.stem.porter import PorterStemmer"
   ]
  },
  {
   "cell_type": "code",
   "execution_count": 2,
   "metadata": {},
   "outputs": [],
   "source": [
    "ds = pd.read_csv(\"perfect_datasets/perfect_dataset_v2.csv\")\n"
   ]
  },
  {
   "cell_type": "code",
   "execution_count": 3,
   "metadata": {},
   "outputs": [],
   "source": [
    "ds_temp = pd.read_csv(\"perfect_datasets/perfect_dataset_v2.csv\")\n"
   ]
  },
  {
   "cell_type": "code",
   "execution_count": 4,
   "metadata": {},
   "outputs": [],
   "source": [
    "ds[\"genres\"] = ds[\"genres\"].apply(lambda x:ast.literal_eval(x))\n",
    "ds[\"keywords\"] = ds[\"keywords\"].apply(lambda x:ast.literal_eval(x))\n",
    "ds[\"production_companies\"] = ds[\"production_companies\"].apply(lambda x:ast.literal_eval(x))\n",
    "ds[\"overview\"] = ds[\"overview\"].apply(lambda x:ast.literal_eval(x))\n",
    "ds[\"cast\"] = ds[\"cast\"].apply(lambda x:ast.literal_eval(x))\n",
    "ds[\"crew\"] = ds[\"crew\"].apply(lambda x:ast.literal_eval(x))"
   ]
  },
  {
   "cell_type": "code",
   "execution_count": 5,
   "metadata": {},
   "outputs": [],
   "source": [
    "ds_temp[\"title\"] = ds_temp[\"title\"].apply(lambda x:[x])"
   ]
  },
  {
   "cell_type": "code",
   "execution_count": 6,
   "metadata": {},
   "outputs": [],
   "source": [
    "ds['tags'] = ds[\"overview\"] + ds_temp[\"title\"] + ds['genres'] + ds[\"keywords\"] + ds[\"production_companies\"] + ds[\"cast\"] + ds[\"crew\"]\n",
    "ds2 = ds[[\"movie_id\", \"title\", \"tags\"]]"
   ]
  },
  {
   "cell_type": "code",
   "execution_count": 7,
   "metadata": {},
   "outputs": [
    {
     "name": "stderr",
     "output_type": "stream",
     "text": [
      "C:\\Users\\mihir\\AppData\\Local\\Temp\\ipykernel_17576\\986877428.py:1: SettingWithCopyWarning: \n",
      "A value is trying to be set on a copy of a slice from a DataFrame.\n",
      "Try using .loc[row_indexer,col_indexer] = value instead\n",
      "\n",
      "See the caveats in the documentation: https://pandas.pydata.org/pandas-docs/stable/user_guide/indexing.html#returning-a-view-versus-a-copy\n",
      "  ds2[\"tags\"] = ds2[\"tags\"].apply(lambda x:\" \".join(x))\n",
      "C:\\Users\\mihir\\AppData\\Local\\Temp\\ipykernel_17576\\986877428.py:2: SettingWithCopyWarning: \n",
      "A value is trying to be set on a copy of a slice from a DataFrame.\n",
      "Try using .loc[row_indexer,col_indexer] = value instead\n",
      "\n",
      "See the caveats in the documentation: https://pandas.pydata.org/pandas-docs/stable/user_guide/indexing.html#returning-a-view-versus-a-copy\n",
      "  ds2[\"tags\"] = ds2[\"tags\"].apply(lambda x:x.lower())\n"
     ]
    }
   ],
   "source": [
    "\n",
    "ds2[\"tags\"] = ds2[\"tags\"].apply(lambda x:\" \".join(x))\n",
    "ds2[\"tags\"] = ds2[\"tags\"].apply(lambda x:x.lower())\n"
   ]
  },
  {
   "cell_type": "code",
   "execution_count": 9,
   "metadata": {},
   "outputs": [
    {
     "name": "stderr",
     "output_type": "stream",
     "text": [
      "C:\\Users\\mihir\\AppData\\Local\\Temp\\ipykernel_17576\\670432522.py:8: SettingWithCopyWarning: \n",
      "A value is trying to be set on a copy of a slice from a DataFrame.\n",
      "Try using .loc[row_indexer,col_indexer] = value instead\n",
      "\n",
      "See the caveats in the documentation: https://pandas.pydata.org/pandas-docs/stable/user_guide/indexing.html#returning-a-view-versus-a-copy\n",
      "  ds2[\"tags\"] = ds2[\"tags\"].apply(stem)\n"
     ]
    }
   ],
   "source": [
    "\n",
    "# removes stem world like [\"people\", \"peoples\", \"people's\"]\n",
    "ps = PorterStemmer()\n",
    "def stem(text):\n",
    "    stemmed_words = []\n",
    "    for i in text.split():\n",
    "        stemmed_words.append(ps.stem(i))\n",
    "    return \" \".join(stemmed_words)\n",
    "ds2[\"tags\"] = ds2[\"tags\"].apply(stem)\n"
   ]
  },
  {
   "cell_type": "code",
   "execution_count": 10,
   "metadata": {},
   "outputs": [],
   "source": [
    "ds2.to_csv(\"perfect_datasets/perfect_dataset_v3.csv\", index=False)"
   ]
  }
 ],
 "metadata": {
  "kernelspec": {
   "display_name": "Python 3 (ipykernel)",
   "language": "python",
   "name": "python3"
  },
  "language_info": {
   "codemirror_mode": {
    "name": "ipython",
    "version": 3
   },
   "file_extension": ".py",
   "mimetype": "text/x-python",
   "name": "python",
   "nbconvert_exporter": "python",
   "pygments_lexer": "ipython3",
   "version": "3.11.4"
  }
 },
 "nbformat": 4,
 "nbformat_minor": 2
}
