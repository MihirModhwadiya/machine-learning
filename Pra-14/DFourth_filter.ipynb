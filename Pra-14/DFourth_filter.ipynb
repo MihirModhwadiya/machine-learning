{
 "cells": [
  {
   "cell_type": "markdown",
   "metadata": {},
   "source": [
    "### K-means"
   ]
  },
  {
   "cell_type": "code",
   "execution_count": 20,
   "metadata": {},
   "outputs": [],
   "source": [
    "import pandas as pd\n",
    "from sklearn.metrics.pairwise import cosine_similarity\n",
    "from sklearn.feature_extraction.text import CountVectorizer\n",
    "from sklearn.cluster import KMeans\n"
   ]
  },
  {
   "cell_type": "code",
   "execution_count": 21,
   "metadata": {},
   "outputs": [
    {
     "name": "stderr",
     "output_type": "stream",
     "text": [
      "c:\\Users\\mihir\\anaconda3\\Lib\\site-packages\\sklearn\\cluster\\_kmeans.py:1412: FutureWarning: The default value of `n_init` will change from 10 to 'auto' in 1.4. Set the value of `n_init` explicitly to suppress the warning\n",
      "  super()._check_params_vs_input(X, default_n_init=10)\n"
     ]
    }
   ],
   "source": [
    "\n",
    "ds = pd.read_csv(\"./perfect_datasets/perfect_dataset_v3.csv\")\n",
    "\n",
    "cv = CountVectorizer(max_features=5000, stop_words=\"english\")\n",
    "\n",
    "vectors = cv.fit_transform(ds[\"tags\"]).toarray()\n",
    "\n",
    "similarity = cosine_similarity(vectors)\n",
    "\n",
    "num_clusters = (similarity.shape[0]*10)//100\n",
    "kmeans = KMeans(n_clusters=num_clusters, random_state=10)\n",
    "cluster_labels = kmeans.fit_predict(similarity)\n",
    "\n",
    "ds[\"cluster_label\"] = cluster_labels\n"
   ]
  },
  {
   "cell_type": "code",
   "execution_count": 22,
   "metadata": {},
   "outputs": [],
   "source": [
    "ds.to_csv(\"./perfect_datasets/perfect_datasets_v4_with_clusters.csv\", index=False)"
   ]
  },
  {
   "cell_type": "code",
   "execution_count": 23,
   "metadata": {},
   "outputs": [],
   "source": [
    "ds = pd.read_csv(\"./perfect_datasets/perfect_datasets_v4_with_clusters.csv\")"
   ]
  },
  {
   "cell_type": "code",
   "execution_count": 24,
   "metadata": {},
   "outputs": [
    {
     "data": {
      "text/html": [
       "<div>\n",
       "<style scoped>\n",
       "    .dataframe tbody tr th:only-of-type {\n",
       "        vertical-align: middle;\n",
       "    }\n",
       "\n",
       "    .dataframe tbody tr th {\n",
       "        vertical-align: top;\n",
       "    }\n",
       "\n",
       "    .dataframe thead th {\n",
       "        text-align: right;\n",
       "    }\n",
       "</style>\n",
       "<table border=\"1\" class=\"dataframe\">\n",
       "  <thead>\n",
       "    <tr style=\"text-align: right;\">\n",
       "      <th></th>\n",
       "      <th>movie_id</th>\n",
       "      <th>title</th>\n",
       "      <th>tags</th>\n",
       "      <th>cluster_label</th>\n",
       "    </tr>\n",
       "  </thead>\n",
       "  <tbody>\n",
       "    <tr>\n",
       "      <th>18</th>\n",
       "      <td>122917</td>\n",
       "      <td>The Hobbit: The Battle of the Five Armies</td>\n",
       "      <td>immedi after the event of the desol of smaug, ...</td>\n",
       "      <td>167</td>\n",
       "    </tr>\n",
       "    <tr>\n",
       "      <th>21</th>\n",
       "      <td>57158</td>\n",
       "      <td>The Hobbit: The Desolation of Smaug</td>\n",
       "      <td>the dwarves, bilbo and gandalf have success es...</td>\n",
       "      <td>167</td>\n",
       "    </tr>\n",
       "    <tr>\n",
       "      <th>96</th>\n",
       "      <td>49051</td>\n",
       "      <td>The Hobbit: An Unexpected Journey</td>\n",
       "      <td>bilbo baggins, a hobbit enjoy hi quiet life, i...</td>\n",
       "      <td>167</td>\n",
       "    </tr>\n",
       "  </tbody>\n",
       "</table>\n",
       "</div>"
      ],
      "text/plain": [
       "    movie_id                                      title  \\\n",
       "18    122917  The Hobbit: The Battle of the Five Armies   \n",
       "21     57158        The Hobbit: The Desolation of Smaug   \n",
       "96     49051          The Hobbit: An Unexpected Journey   \n",
       "\n",
       "                                                 tags  cluster_label  \n",
       "18  immedi after the event of the desol of smaug, ...            167  \n",
       "21  the dwarves, bilbo and gandalf have success es...            167  \n",
       "96  bilbo baggins, a hobbit enjoy hi quiet life, i...            167  "
      ]
     },
     "execution_count": 24,
     "metadata": {},
     "output_type": "execute_result"
    }
   ],
   "source": [
    "ds[ds[\"title\"].str.lower().str.startswith(\"the hobbit\")]"
   ]
  },
  {
   "cell_type": "code",
   "execution_count": 25,
   "metadata": {},
   "outputs": [
    {
     "data": {
      "text/html": [
       "<div>\n",
       "<style scoped>\n",
       "    .dataframe tbody tr th:only-of-type {\n",
       "        vertical-align: middle;\n",
       "    }\n",
       "\n",
       "    .dataframe tbody tr th {\n",
       "        vertical-align: top;\n",
       "    }\n",
       "\n",
       "    .dataframe thead th {\n",
       "        text-align: right;\n",
       "    }\n",
       "</style>\n",
       "<table border=\"1\" class=\"dataframe\">\n",
       "  <thead>\n",
       "    <tr style=\"text-align: right;\">\n",
       "      <th></th>\n",
       "      <th>movie_id</th>\n",
       "      <th>title</th>\n",
       "      <th>tags</th>\n",
       "      <th>cluster_label</th>\n",
       "    </tr>\n",
       "  </thead>\n",
       "  <tbody>\n",
       "    <tr>\n",
       "      <th>18</th>\n",
       "      <td>122917</td>\n",
       "      <td>The Hobbit: The Battle of the Five Armies</td>\n",
       "      <td>immedi after the event of the desol of smaug, ...</td>\n",
       "      <td>167</td>\n",
       "    </tr>\n",
       "    <tr>\n",
       "      <th>21</th>\n",
       "      <td>57158</td>\n",
       "      <td>The Hobbit: The Desolation of Smaug</td>\n",
       "      <td>the dwarves, bilbo and gandalf have success es...</td>\n",
       "      <td>167</td>\n",
       "    </tr>\n",
       "    <tr>\n",
       "      <th>96</th>\n",
       "      <td>49051</td>\n",
       "      <td>The Hobbit: An Unexpected Journey</td>\n",
       "      <td>bilbo baggins, a hobbit enjoy hi quiet life, i...</td>\n",
       "      <td>167</td>\n",
       "    </tr>\n",
       "    <tr>\n",
       "      <th>259</th>\n",
       "      <td>120</td>\n",
       "      <td>The Lord of the Rings: The Fellowship of the Ring</td>\n",
       "      <td>young hobbit frodo baggins, after inherit a my...</td>\n",
       "      <td>167</td>\n",
       "    </tr>\n",
       "    <tr>\n",
       "      <th>576</th>\n",
       "      <td>44943</td>\n",
       "      <td>Battle: Los Angeles</td>\n",
       "      <td>the earth is attack by unknown forces. as peop...</td>\n",
       "      <td>167</td>\n",
       "    </tr>\n",
       "    <tr>\n",
       "      <th>1139</th>\n",
       "      <td>12279</td>\n",
       "      <td>Spy Kids 3-D: Game Over</td>\n",
       "      <td>carmen' caught in a virtual realiti game desig...</td>\n",
       "      <td>167</td>\n",
       "    </tr>\n",
       "    <tr>\n",
       "      <th>1862</th>\n",
       "      <td>18975</td>\n",
       "      <td>The Adventures of Pinocchio</td>\n",
       "      <td>one of puppet-mak geppetto' creation come magi...</td>\n",
       "      <td>167</td>\n",
       "    </tr>\n",
       "  </tbody>\n",
       "</table>\n",
       "</div>"
      ],
      "text/plain": [
       "      movie_id                                              title  \\\n",
       "18      122917          The Hobbit: The Battle of the Five Armies   \n",
       "21       57158                The Hobbit: The Desolation of Smaug   \n",
       "96       49051                  The Hobbit: An Unexpected Journey   \n",
       "259        120  The Lord of the Rings: The Fellowship of the Ring   \n",
       "576      44943                                Battle: Los Angeles   \n",
       "1139     12279                            Spy Kids 3-D: Game Over   \n",
       "1862     18975                        The Adventures of Pinocchio   \n",
       "\n",
       "                                                   tags  cluster_label  \n",
       "18    immedi after the event of the desol of smaug, ...            167  \n",
       "21    the dwarves, bilbo and gandalf have success es...            167  \n",
       "96    bilbo baggins, a hobbit enjoy hi quiet life, i...            167  \n",
       "259   young hobbit frodo baggins, after inherit a my...            167  \n",
       "576   the earth is attack by unknown forces. as peop...            167  \n",
       "1139  carmen' caught in a virtual realiti game desig...            167  \n",
       "1862  one of puppet-mak geppetto' creation come magi...            167  "
      ]
     },
     "execution_count": 25,
     "metadata": {},
     "output_type": "execute_result"
    }
   ],
   "source": [
    "ds[ds[\"cluster_label\"]==167]"
   ]
  },
  {
   "cell_type": "code",
   "execution_count": 27,
   "metadata": {},
   "outputs": [
    {
     "data": {
      "text/plain": [
       "35     32\n",
       "104    31\n",
       "52     30\n",
       "12     30\n",
       "99     28\n",
       "       ..\n",
       "351     2\n",
       "371     2\n",
       "323     2\n",
       "61      2\n",
       "2       1\n",
       "Name: cluster_label, Length: 450, dtype: int64"
      ]
     },
     "execution_count": 27,
     "metadata": {},
     "output_type": "execute_result"
    }
   ],
   "source": [
    "# count the number of movies in each cluster\n",
    "ds[\"cluster_label\"].value_counts()"
   ]
  }
 ],
 "metadata": {
  "kernelspec": {
   "display_name": "base",
   "language": "python",
   "name": "python3"
  },
  "language_info": {
   "codemirror_mode": {
    "name": "ipython",
    "version": 3
   },
   "file_extension": ".py",
   "mimetype": "text/x-python",
   "name": "python",
   "nbconvert_exporter": "python",
   "pygments_lexer": "ipython3",
   "version": "3.11.4"
  }
 },
 "nbformat": 4,
 "nbformat_minor": 2
}
