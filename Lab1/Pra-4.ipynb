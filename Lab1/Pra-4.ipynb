{
 "cells": [
  {
   "cell_type": "markdown",
   "metadata": {},
   "source": [
    "### Write a NumPy program to implement following operation\n"
   ]
  },
  {
   "cell_type": "markdown",
   "metadata": {},
   "source": [
    "#### to add, subtract, multiply, divide arguments element-wise\n"
   ]
  },
  {
   "cell_type": "code",
   "execution_count": 1,
   "metadata": {},
   "outputs": [
    {
     "name": "stdout",
     "output_type": "stream",
     "text": [
      "Sum:  [5 7 9]\n",
      "Subtraction:  [-3 -3 -3]\n",
      "Multiplication:  [ 4 10 18]\n",
      "Division:  [0.25 0.4  0.5 ]\n"
     ]
    }
   ],
   "source": [
    "import numpy as np\n",
    "\n",
    "arr1 = np.array([1, 2, 3])\n",
    "arr2 = np.array([4, 5, 6])\n",
    "\n",
    "print(\"Sum:\", arr1 + arr2)\n",
    "print(\"Subtraction:\", arr1 - arr2)\n",
    "print(\"Multiplication:\", arr1 * arr2)\n",
    "print(\"Division:\", arr1 / arr2)\n"
   ]
  },
  {
   "cell_type": "markdown",
   "metadata": {},
   "source": [
    "#### to round elements of the array to the nearest integer\n"
   ]
  },
  {
   "cell_type": "code",
   "execution_count": 7,
   "metadata": {},
   "outputs": [
    {
     "name": "stdout",
     "output_type": "stream",
     "text": [
      "Rounded to nearest integer: [3. 4. 6. 7.]\n"
     ]
    }
   ],
   "source": [
    "arr_to_round = np.array([3.4, 4.5, 5.5, 6.7])\n",
    "\n",
    "print(\"Rounded to nearest integer:\", np.round(arr_to_round))\n"
   ]
  },
  {
   "cell_type": "markdown",
   "metadata": {},
   "source": [
    "#### to calculate mean across dimension, in a 2D numpy array\n"
   ]
  },
  {
   "cell_type": "code",
   "execution_count": 6,
   "metadata": {},
   "outputs": [
    {
     "name": "stdout",
     "output_type": "stream",
     "text": [
      "mean of array: [1. 2. 3.]\n",
      "mean of array: [2. 2. 2.]\n"
     ]
    }
   ],
   "source": [
    "arr_to_mean = np.array([[1, 2, 3],\n",
    "                        [1, 2, 3],\n",
    "                        [1, 2, 3]])\n",
    "\n",
    "print(\"mean of axis=0 array:\", np.mean(arr_to_mean, axis=0))\n",
    "print(\"mean of axis=1 array:\", np.mean(arr_to_mean, axis=1))\n"
   ]
  },
  {
   "cell_type": "markdown",
   "metadata": {},
   "source": [
    "#### to calculate the difference between neighboring elements, elementwise of a given array\n"
   ]
  },
  {
   "cell_type": "code",
   "execution_count": 12,
   "metadata": {},
   "outputs": [
    {
     "name": "stdout",
     "output_type": "stream",
     "text": [
      "differeced:  [1 1 1 1]\n"
     ]
    }
   ],
   "source": [
    "arr_to_diff = np.array([1, 12, 3, 4, 5])\n",
    "\n",
    "print(\"differeced: \", np.diff(arr_to_diff))\n"
   ]
  }
 ],
 "metadata": {
  "kernelspec": {
   "display_name": "base",
   "language": "python",
   "name": "python3"
  },
  "language_info": {
   "codemirror_mode": {
    "name": "ipython",
    "version": 3
   },
   "file_extension": ".py",
   "mimetype": "text/x-python",
   "name": "python",
   "nbconvert_exporter": "python",
   "pygments_lexer": "ipython3",
   "version": "3.11.4"
  },
  "orig_nbformat": 4
 },
 "nbformat": 4,
 "nbformat_minor": 2
}
