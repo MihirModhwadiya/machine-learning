{
 "cells": [
  {
   "cell_type": "code",
   "execution_count": 2,
   "id": "0db96488",
   "metadata": {},
   "outputs": [
    {
     "name": "stdout",
     "output_type": "stream",
     "text": [
      "Hello world\n"
     ]
    }
   ],
   "source": [
    "print(\"Hello world\")\n"
   ]
  },
  {
   "cell_type": "code",
   "execution_count": 4,
   "id": "3c3809a9",
   "metadata": {},
   "outputs": [
    {
     "name": "stdout",
     "output_type": "stream",
     "text": [
      "a1: \n",
      " [1 2 3]\n",
      "\n",
      "Number of axes/dimensions in the array:  1\n",
      "Shape of the array:  (3,)\n",
      "Size of the array/Number of Elements in the:  3\n",
      "Type of the elements in the array:  int32\n",
      "Size of the elements in the array:  4\n",
      "Buffer containing the array:  <memory at 0x00000204D1064A00>\n"
     ]
    }
   ],
   "source": [
    "import numpy as np\n",
    "\n",
    "a = np.array([[1, 2, 3], [1, 2, 3], [1, 2, 3]])\n",
    "a1 = np.array([1, 2, 3])\n",
    "print(\"a1: \\n\", a1)\n",
    "# print(a)\n",
    "\n",
    "print(\"\\nNumber of axes/dimensions in the array: \", a1.ndim)\n",
    "print(\"Shape of the array: \", a1.shape)\n",
    "print(\"Size of the array/Number of Elements in the: \", a1.size)\n",
    "print(\"Type of the elements in the array: \", a1.dtype)\n",
    "print(\"Size of the elements in the array: \", a1.itemsize)\n",
    "print(\"Buffer containing the array: \", a1.data)\n"
   ]
  }
 ],
 "metadata": {
  "kernelspec": {
   "display_name": "Python 3 (ipykernel)",
   "language": "python",
   "name": "python3"
  },
  "language_info": {
   "codemirror_mode": {
    "name": "ipython",
    "version": 3
   },
   "file_extension": ".py",
   "mimetype": "text/x-python",
   "name": "python",
   "nbconvert_exporter": "python",
   "pygments_lexer": "ipython3",
   "version": "3.11.4"
  }
 },
 "nbformat": 4,
 "nbformat_minor": 5
}
