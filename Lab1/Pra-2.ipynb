{
 "cells": [
  {
   "cell_type": "markdown",
   "id": "0db96488",
   "metadata": {},
   "source": [
    "<h4 style=\"color: blue;\">Pra-2). Write a NumPy program</h4>\n"
   ]
  },
  {
   "cell_type": "markdown",
   "id": "90fb2a9d",
   "metadata": {},
   "source": [
    "<h4 style = \"color: blue;\" > 1). to convert a list of numeric values into a one-dimensional NumPy array</h4>\n"
   ]
  },
  {
   "cell_type": "code",
   "execution_count": 3,
   "id": "3c3809a9",
   "metadata": {},
   "outputs": [
    {
     "name": "stdout",
     "output_type": "stream",
     "text": [
      "[1 2 3]\n"
     ]
    }
   ],
   "source": [
    "import numpy as np\n",
    "\n",
    "a = np.array([1, 2, 3])\n",
    "print(a)\n"
   ]
  },
  {
   "cell_type": "markdown",
   "id": "4daf29e2",
   "metadata": {},
   "source": [
    "<h4 style=\"color: blue;\">\n",
    "2). to create a 3x3 matrix with values ranging from 2 to 10\n",
    "</h4>\n"
   ]
  },
  {
   "cell_type": "code",
   "execution_count": 9,
   "metadata": {},
   "outputs": [
    {
     "name": "stdout",
     "output_type": "stream",
     "text": [
      "[[ 2  3  4]\n",
      " [ 5  6  7]\n",
      " [ 8  9 10]]\n"
     ]
    }
   ],
   "source": [
    "a1 = np.array([[], [], []])\n",
    "a1 = np.arange(2, 11).reshape(3, 3)\n",
    "print(a1)\n"
   ]
  },
  {
   "cell_type": "markdown",
   "id": "8427305c",
   "metadata": {},
   "source": [
    "<h4 style=\"color: blue;\">3). to append values at the end of an array</h4>\n"
   ]
  },
  {
   "cell_type": "code",
   "execution_count": null,
   "id": "02a972fa",
   "metadata": {},
   "outputs": [
    {
     "name": "stdout",
     "output_type": "stream",
     "text": [
      "[[1 2 3]\n",
      " [4 5 6]\n",
      " [7 8 9]]\n",
      "\n",
      "[[1 2 3]\n",
      " [4 5 6]\n",
      " [7 8 9]]\n"
     ]
    }
   ],
   "source": [
    "a2 = np.array([[1, 2, 3], [4, 5, 6]])\n",
    "\n",
    "new_r = np.array([7, 8, 9])\n",
    "\n",
    "print(np.append(a2, [new_r], axis=0))\n",
    "\n",
    "print()\n",
    "\n",
    "a3 = np.array([[1, 2], [4, 5], [7, 8]])\n",
    "\n",
    "new_c = np.array([3, 6, 9])\n",
    "\n",
    "new_c = new_c.reshape(-1, 1)\n",
    "\n",
    "print(np.append(a3, new_c, axis=1))\n"
   ]
  },
  {
   "cell_type": "markdown",
   "id": "74ef4905",
   "metadata": {},
   "source": [
    "<h4 style=\"color: blue;\">4).to create another shape from an array without changing its data(3*2 to 2*3)</h4>\n"
   ]
  },
  {
   "cell_type": "code",
   "execution_count": 7,
   "id": "6aaaa1df",
   "metadata": {},
   "outputs": [
    {
     "name": "stdout",
     "output_type": "stream",
     "text": [
      "[[1 3 5]\n",
      " [2 4 6]]\n"
     ]
    }
   ],
   "source": [
    "arr = np.array([[1, 2], [3, 4], [5, 6]])\n",
    "\n",
    "arr = arr.T\n",
    "\n",
    "print(arr)\n"
   ]
  }
 ],
 "metadata": {
  "kernelspec": {
   "display_name": "Python 3 (ipykernel)",
   "language": "python",
   "name": "python3"
  },
  "language_info": {
   "codemirror_mode": {
    "name": "ipython",
    "version": 3
   },
   "file_extension": ".py",
   "mimetype": "text/x-python",
   "name": "python",
   "nbconvert_exporter": "python",
   "pygments_lexer": "ipython3",
   "version": "3.11.4"
  }
 },
 "nbformat": 4,
 "nbformat_minor": 5
}
