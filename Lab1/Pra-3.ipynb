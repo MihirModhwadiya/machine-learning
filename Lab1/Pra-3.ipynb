{
 "cells": [
  {
   "cell_type": "markdown",
   "metadata": {},
   "source": [
    "### Pra-3). Write a NumPy program to implement following operation\n"
   ]
  },
  {
   "cell_type": "markdown",
   "metadata": {},
   "source": [
    "#### to split an array of 14 elements into 3 arrays, each with 2, 4, and 8 elements in the original order\n"
   ]
  },
  {
   "cell_type": "code",
   "execution_count": 5,
   "metadata": {},
   "outputs": [
    {
     "name": "stdout",
     "output_type": "stream",
     "text": [
      "Split Arrays:\n",
      "Array 1 : [0 1]\n",
      "Array 2 : [2 3 4 5]\n",
      "Array 3 : [ 6  7  8  9 10 11 12 13]\n"
     ]
    }
   ],
   "source": [
    "import numpy as np\n",
    "\n",
    "ori_arr = np.arange(14)\n",
    "\n",
    "split_arr = np.split(ori_arr, [2, 6])\n",
    "\n",
    "print(\"Split Arrays:\")\n",
    "for i, arr in enumerate(split_arr):\n",
    "    print(\"Array\", i+1, \":\", arr)\n"
   ]
  },
  {
   "cell_type": "markdown",
   "metadata": {},
   "source": [
    "#### to stack arrays horizontally (column wise)\n"
   ]
  },
  {
   "cell_type": "code",
   "execution_count": 18,
   "metadata": {},
   "outputs": [
    {
     "name": "stdout",
     "output_type": "stream",
     "text": [
      "[1 2 3 4 5 6]\n"
     ]
    }
   ],
   "source": [
    "import numpy as np\n",
    "\n",
    "two_D = np.array([[1, 2, 3], [4, 5, 6]])\n",
    "\n",
    "stacked = np.hstack((two_D))\n",
    "\n",
    "print(stacked)\n"
   ]
  }
 ],
 "metadata": {
  "kernelspec": {
   "display_name": "base",
   "language": "python",
   "name": "python3"
  },
  "language_info": {
   "codemirror_mode": {
    "name": "ipython",
    "version": 3
   },
   "file_extension": ".py",
   "mimetype": "text/x-python",
   "name": "python",
   "nbconvert_exporter": "python",
   "pygments_lexer": "ipython3",
   "version": "3.11.4"
  },
  "orig_nbformat": 4
 },
 "nbformat": 4,
 "nbformat_minor": 2
}
