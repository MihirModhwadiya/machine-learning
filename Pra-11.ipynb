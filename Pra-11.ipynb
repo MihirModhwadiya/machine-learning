{
 "cells": [
  {
   "cell_type": "markdown",
   "metadata": {},
   "source": [
    "### Pra-11). Write a Pandas program to filter all columns where all entries present, check which rows and columns has a NaN and finally drop rows with any NaNs from the given dataset.\n"
   ]
  },
  {
   "cell_type": "code",
   "execution_count": 13,
   "metadata": {},
   "outputs": [
    {
     "name": "stdout",
     "output_type": "stream",
     "text": [
      "    Duration          Date  Pulse  Maxpulse  Calories\n",
      "18        45  '2020/12/18'     90       112       NaN\n",
      "22        45           NaN    100       119     282.0\n",
      "28        60  '2020/12/28'    103       132       NaN\n",
      "\n",
      "   Duration          Date  Pulse  Maxpulse  Calories\n",
      "0        60  '2020/12/01'    110       130     409.1\n",
      "1        60  '2020/12/02'    117       145     479.0\n",
      "2        60  '2020/12/03'    103       135     340.0\n",
      "3        45  '2020/12/04'    109       175     282.4\n",
      "4        45  '2020/12/05'    117       148     406.0\n",
      "\n",
      "   Duration          Date  Pulse  Maxpulse  Calories\n",
      "0        60  '2020/12/01'    110       130     409.1\n",
      "1        60  '2020/12/02'    117       145     479.0\n",
      "2        60  '2020/12/03'    103       135     340.0\n",
      "3        45  '2020/12/04'    109       175     282.4\n",
      "4        45  '2020/12/05'    117       148     406.0\n"
     ]
    }
   ],
   "source": [
    "# Name: Mihir V. Modhwadiya\n",
    "# Enrollment: 216270307033\n",
    "\n",
    "import pandas as pd\n",
    "\n",
    "dff = pd.read_csv(\"./Pra-10_i.csv\")\n",
    "\n",
    "dff_null = dff[dff.isnull().any(axis=1)]\n",
    "print(dff_null.head())\n",
    "print()\n",
    "\n",
    "dff_not_null = dff[dff.notnull().any(axis=1)]\n",
    "print(dff_not_null.head())\n",
    "print()\n",
    "droped = dff.dropna()\n",
    "print(droped.head())"
   ]
  }
 ],
 "metadata": {
  "kernelspec": {
   "display_name": "base",
   "language": "python",
   "name": "python3"
  },
  "language_info": {
   "codemirror_mode": {
    "name": "ipython",
    "version": 3
   },
   "file_extension": ".py",
   "mimetype": "text/x-python",
   "name": "python",
   "nbconvert_exporter": "python",
   "pygments_lexer": "ipython3",
   "version": "3.11.4"
  },
  "orig_nbformat": 4
 },
 "nbformat": 4,
 "nbformat_minor": 2
}
