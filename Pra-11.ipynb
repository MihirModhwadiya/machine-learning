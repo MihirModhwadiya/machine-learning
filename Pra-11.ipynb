{
 "cells": [
  {
   "cell_type": "markdown",
   "metadata": {},
   "source": [
    "### Pra-11). Write a Pandas program to filter all columns where all entries present, check which rows and columns has a NaN and finally drop rows with any NaNs from the given dataset.\n"
   ]
  },
  {
   "cell_type": "code",
<<<<<<< HEAD
   "execution_count": 17,
=======
   "execution_count": null,
>>>>>>> parent of 389dd4d (pra 11 and 12 is started)
   "metadata": {},
   "outputs": [],
   "source": [
    "# Name: Mihir V. Modhwadiya\n",
    "# Enrollment: 216270307033\n",
    "# Date: 17/10/2023\n",
    "\n",
    "import pandas as pd\n",
<<<<<<< HEAD
    "\n",
    "dff = pd.read_csv(\"./Pra-10_i.csv\")\n",
    "\n",
    "\n",
=======
>>>>>>> parent of 389dd4d (pra 11 and 12 is started)
    "\n"
   ]
  }
 ],
 "metadata": {
  "language_info": {
   "name": "python"
  },
  "orig_nbformat": 4
 },
 "nbformat": 4,
 "nbformat_minor": 2
}
