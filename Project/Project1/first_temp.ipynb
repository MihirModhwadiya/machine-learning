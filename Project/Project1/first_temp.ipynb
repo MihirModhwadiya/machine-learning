{
 "cells": [
  {
   "cell_type": "markdown",
   "metadata": {},
   "source": [
    "# First\n"
   ]
  },
  {
   "cell_type": "code",
   "execution_count": 1,
   "metadata": {},
   "outputs": [],
   "source": [
    "import numpy as np\n",
    "import pandas as pd\n",
    "\n",
    "ds_1 = pd.read_csv(\"./netflix_movie.csv\")\n",
    "ds1 = pd.read_csv(\"./net/titles.csv\")\n",
    "\n",
    "ds_1 = ds_1.merge(ds1, on=\"title\")\n",
    "\n",
    "ds2 = ds1.sort_values(by=\"release_year\")\n",
    "ds_1.head(10)\n",
    "ds_1.to_csv(\"./netflix_movie_second.csv\")\n"
   ]
  },
  {
   "cell_type": "code",
   "execution_count": 2,
   "metadata": {},
   "outputs": [],
   "source": [
    "\n",
    "# ds3 = ds1.sort_values(by=\"release_year\")\n",
    "# ds3.head(10)"
   ]
  },
  {
   "cell_type": "code",
   "execution_count": 3,
   "metadata": {},
   "outputs": [],
   "source": [
    "ds_desc = ds1[[\"title\",\"description\"]]\n",
    "pd.set_option('display.max_colwidth', 2000)\n",
    "# ds_desc.head(100)"
   ]
  },
  {
   "cell_type": "code",
   "execution_count": 4,
   "metadata": {},
   "outputs": [],
   "source": [
    "ds1[\"title\"] = ds1[\"title\"].str.lower()\n",
    "# ds1.head(10)"
   ]
  },
  {
   "cell_type": "code",
   "execution_count": 5,
   "metadata": {},
   "outputs": [],
   "source": [
    "ds1.dropna(subset=\"title\", inplace=True)"
   ]
  },
  {
   "cell_type": "code",
   "execution_count": 19,
   "metadata": {},
   "outputs": [],
   "source": [
    "ds3 = ds1[ds1[\"title\"].str.startswith(\"\")]\n",
    "# ds3.head(3)"
   ]
  },
  {
   "cell_type": "code",
   "execution_count": 9,
   "metadata": {},
   "outputs": [],
   "source": [
    "ds4 = ds1.dropna()\n"
   ]
  }
 ],
 "metadata": {
  "kernelspec": {
   "display_name": "base",
   "language": "python",
   "name": "python3"
  },
  "language_info": {
   "codemirror_mode": {
    "name": "ipython",
    "version": 3
   },
   "file_extension": ".py",
   "mimetype": "text/x-python",
   "name": "python",
   "nbconvert_exporter": "python",
   "pygments_lexer": "ipython3",
   "version": "3.11.4"
  },
  "orig_nbformat": 4
 },
 "nbformat": 4,
 "nbformat_minor": 2
}
