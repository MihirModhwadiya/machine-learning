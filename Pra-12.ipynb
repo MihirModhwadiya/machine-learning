{
 "cells": [
  {
   "cell_type": "markdown",
   "metadata": {},
   "source": [
    "### Pra-12). Write a Python program using Scikit-learn to print the keys, number of rows-columns, feature names and the description of the given data\n"
   ]
  },
  {
   "cell_type": "code",
   "execution_count": 1,
   "metadata": {},
   "outputs": [],
   "source": [
<<<<<<< HEAD
    "# Name: Mihir V. Modhwadiya\n",
    "# Enrollment: 216270307033\n",
    "# Date: 17/10/2023\n",
    "\n",
    "import pandas as pd\n",
    "from sklearn import datasets\n",
    "\n",
    "ds = pd.read_csv(\"./Pra-10.csv\")\n",
    "\n",
    "data = datasets.load_iris()\n",
    "\n",
    "print(data.keys())\n",
    "\n"
=======
    "import pandas as pd"
>>>>>>> parent of 389dd4d (pra 11 and 12 is started)
   ]
  }
 ],
 "metadata": {
  "kernelspec": {
   "display_name": "base",
   "language": "python",
   "name": "python3"
  },
  "language_info": {
   "codemirror_mode": {
    "name": "ipython",
    "version": 3
   },
   "file_extension": ".py",
   "mimetype": "text/x-python",
   "name": "python",
   "nbconvert_exporter": "python",
   "pygments_lexer": "ipython3",
   "version": "3.11.4"
  },
  "orig_nbformat": 4
 },
 "nbformat": 4,
 "nbformat_minor": 2
}
