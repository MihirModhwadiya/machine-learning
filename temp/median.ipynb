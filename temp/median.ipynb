{
 "cells": [
  {
   "cell_type": "code",
   "execution_count": 11,
   "metadata": {},
   "outputs": [
    {
     "name": "stdout",
     "output_type": "stream",
     "text": [
      "arr: [[1 2 3]\n",
      " [4 5 6]\n",
      " [7 8 9]]\n",
      "\n",
      "mean of axis=0 is: [4. 5. 6.]\n",
      "\n",
      "mean of axis=1 is: [2. 5. 8.]\n",
      "\n",
      "median of axis=0 is: [4. 5. 6.]\n",
      "\n",
      "median of axis=1 is: [2. 5. 8.]\n",
      "\n",
      "standard deviation of axis=0 is: [2.44948974 2.44948974 2.44948974]\n",
      "\n",
      "standard deviation of axis=1 is: [0.81649658 0.81649658 0.81649658]\n",
      "\n",
      "variance of axis=0 is: [6. 6. 6.]\n",
      "\n",
      "variance of axis=1 is: [0.66666667 0.66666667 0.66666667]\n",
      "\n"
     ]
    },
    {
     "data": {
      "text/plain": [
       "('standard division: ', 5.999999986365268, 'variance: ', 0.6666666651516965)"
      ]
     },
     "execution_count": 11,
     "metadata": {},
     "output_type": "execute_result"
    }
   ],
   "source": [
    "import numpy as np\n",
    "import pandas as pd\n",
    "\n",
    "arr = np.array([[1,2,3],[4,5,6],[7,8,9]])\n",
    "\n",
    "print(f\"arr: {arr}\", end=\"\\n\\n\")\n",
    "\n",
    "\n",
    "arr_to_mean = np.mean(arr, axis=0)\n",
    "print(f\"mean of axis=0 is: {arr_to_mean}\", end=\"\\n\\n\")\n",
    "\n",
    "arr_to_mean = np.mean(arr, axis=1)\n",
    "print(f\"mean of axis=1 is: {arr_to_mean}\", end=\"\\n\\n\")\n",
    "\n",
    "# -----------------------------------------------------\n",
    "\n",
    "arr_to_median = np.median(arr, axis=0)\n",
    "print(f\"median of axis=0 is: {arr_to_median}\", end=\"\\n\\n\")\n",
    "\n",
    "arr_to_median = np.median(arr, axis=1)\n",
    "print(f\"median of axis=1 is: {arr_to_median}\", end=\"\\n\\n\")\n",
    "\n",
    "\n",
    "arr_to_standard_deviation = np.std(arr, axis=0)\n",
    "print(\n",
    "    f\"standard deviation of axis=0 is: {arr_to_standard_deviation}\", end=\"\\n\\n\")\n",
    "\n",
    "arr_to_standard_deviation = np.std(arr, axis=1)\n",
    "print(\n",
    "    f\"standard deviation of axis=1 is: {arr_to_standard_deviation}\", end=\"\\n\\n\")\n",
    "\n",
    "\n",
    "arr_to_variance = np.var(arr, axis=0)\n",
    "print(f\"variance of axis=0 is: {arr_to_variance}\", end=\"\\n\\n\")\n",
    "\n",
    "arr_to_variance = np.var(arr, axis=1)\n",
    "print(f\"variance of axis=1 is: {arr_to_variance}\", end=\"\\n\\n\")\n",
    "\"standard division: \",2.44948974 * 2.44948974, \"variance: \", 0.81649658 * 0.81649658"
   ]
  }
 ],
 "metadata": {
  "kernelspec": {
   "display_name": "base",
   "language": "python",
   "name": "python3"
  },
  "language_info": {
   "codemirror_mode": {
    "name": "ipython",
    "version": 3
   },
   "file_extension": ".py",
   "mimetype": "text/x-python",
   "name": "python",
   "nbconvert_exporter": "python",
   "pygments_lexer": "ipython3",
   "version": "3.11.4"
  }
 },
 "nbformat": 4,
 "nbformat_minor": 2
}
