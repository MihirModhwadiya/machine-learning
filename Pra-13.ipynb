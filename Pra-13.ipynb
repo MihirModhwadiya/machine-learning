{
 "cells": [
  {
   "cell_type": "markdown",
   "metadata": {},
   "source": [
    "**Write a Python program to implement K-Nearest Neighbour supervised\n",
    "machine learning algorithm for given dataset.**"
   ]
  },
  {
   "cell_type": "code",
   "execution_count": 12,
   "metadata": {},
   "outputs": [
    {
     "name": "stdout",
     "output_type": "stream",
     "text": [
      "You entered: spider-man 2 \n",
      "\n",
      "Recommended Movies:\n",
      "Spider-Man 3\n",
      "Spider-Man\n",
      "The Amazing Spider-Man\n",
      "The Amazing Spider-Man 2\n"
     ]
    }
   ],
   "source": [
    "import pandas as pd\n",
    "from sklearn.feature_extraction.text import TfidfVectorizer\n",
    "from sklearn.neighbors import NearestNeighbors\n",
    "\n",
    "ds = pd.read_csv(\"perfect_dataset_v2.csv\")\n",
    "\n",
    "tfidf_vectorizer = TfidfVectorizer(stop_words='english')\n",
    "tfidf_matrix = tfidf_vectorizer.fit_transform(ds['overview'])\n",
    "\n",
    "knn = NearestNeighbors(n_neighbors=5, metric='cosine')\n",
    "knn.fit(tfidf_matrix)\n",
    "\n",
    "def recommend(movie_name):\n",
    "    movie_name = movie_name.lower()\n",
    "\n",
    "    movie_index = ds[ds['title'].str.lower() == movie_name].index\n",
    "    if not movie_index.empty:\n",
    "        movie_index = movie_index[0]\n",
    "        \n",
    "        distances, indices = knn.kneighbors(tfidf_matrix[movie_index])\n",
    "        recommendations = [ds['title'][i] for i in indices.flatten()][1:]\n",
    "\n",
    "        if not recommendations:\n",
    "            print(\"No similar movies found.\")\n",
    "        else:\n",
    "            print(\"Recommended Movies:\")\n",
    "            for movie in recommendations:\n",
    "                print(movie)\n",
    "    else:\n",
    "        print(\"Movie not found in the dataset.\")\n",
    "\n",
    "inp = input(\"Enter a movie name: \")\n",
    "print(\"You entered:\", inp, \"\\n\")\n",
    "recommend(inp)\n"
   ]
  }
 ],
 "metadata": {
  "kernelspec": {
   "display_name": "Python 3",
   "language": "python",
   "name": "python3"
  },
  "language_info": {
   "codemirror_mode": {
    "name": "ipython",
    "version": 3
   },
   "file_extension": ".py",
   "mimetype": "text/x-python",
   "name": "python",
   "nbconvert_exporter": "python",
   "pygments_lexer": "ipython3",
   "version": "3.11.4"
  }
 },
 "nbformat": 4,
 "nbformat_minor": 2
}
