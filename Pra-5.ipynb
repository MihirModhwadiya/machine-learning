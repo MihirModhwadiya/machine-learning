{
 "cells": [
  {
   "cell_type": "markdown",
   "metadata": {},
   "source": [
    "### Pra-5). Write a NumPy program to implement following operation\n"
   ]
  },
  {
   "cell_type": "markdown",
   "metadata": {},
   "source": [
    "#### to find the maximum and minimum value of a given flattened array"
   ]
  },
  {
   "cell_type": "code",
   "execution_count": 2,
   "metadata": {},
   "outputs": [
    {
     "name": "stdout",
     "output_type": "stream",
     "text": [
      "max value out of [[14 53 68 46 31 90 81]] is:90\n"
     ]
    }
   ],
   "source": [
    "import numpy as np\n",
    "\n",
    "arr_for_min = np.random.randint(1, 100, (1, 7))\n",
    "\n",
    "print(f\"max value out of {arr_for_min} is:{np.max(arr_for_min)}\")\n"
   ]
  },
  {
   "cell_type": "markdown",
   "metadata": {},
   "source": [
    "#### to compute the mean, standard deviation, and variance of a given array along the second axis\n"
   ]
  },
  {
   "cell_type": "code",
   "execution_count": 5,
   "metadata": {},
   "outputs": [
    {
     "name": "stdout",
     "output_type": "stream",
     "text": [
      "arr: [[52 98 39 23]\n",
      " [ 3 74 43 25]\n",
      " [93 36 59 21]]\n",
      "\n",
      "mean of axis=0 is: [49.33333333 69.33333333 47.         23.        ]\n",
      "\n",
      "mean of axis=1 is: [53.   36.25 52.25]\n",
      "\n",
      "standard deviation of axis=0 (every row) is: [36.79069931 25.52558629  8.6409876   1.63299316]\n",
      "\n",
      "standard deviation of axis=1 (every column) is: [27.93743009 25.99398969 27.14198777]\n",
      "\n",
      "variance of axis=0 is: [1353.55555556  651.55555556   74.66666667    2.66666667]\n",
      "\n",
      "variance of axis=1 is: [780.5    675.6875 736.6875]\n",
      "\n"
     ]
    }
   ],
   "source": [
    "# arr = np.random.uniform(1, 100, (3, 3))\n",
    "arr = np.random.randint(1, 100, (3, 4))\n",
    "\n",
    "print(f\"arr: {arr}\", end=\"\\n\\n\")\n",
    "\n",
    "\n",
    "arr_to_mean = np.mean(arr, axis=0)\n",
    "print(f\"mean of axis=0 is: {arr_to_mean}\", end=\"\\n\\n\")\n",
    "\n",
    "arr_to_mean = np.mean(arr, axis=1)\n",
    "print(f\"mean of axis=1 is: {arr_to_mean}\", end=\"\\n\\n\")\n",
    "\n",
    "\n",
    "arr_to_standard_deviation = np.std(arr, axis=0)\n",
    "print(\n",
    "    f\"standard deviation of axis=0 (every row) is: {arr_to_standard_deviation}\", end=\"\\n\\n\")\n",
    "\n",
    "arr_to_standard_deviation = np.std(arr, axis=1)\n",
    "print(\n",
    "    f\"standard deviation of axis=1 (every column) is: {arr_to_standard_deviation}\", end=\"\\n\\n\")\n",
    "\n",
    "\n",
    "arr_to_variance = np.var(arr, axis=0)\n",
    "print(f\"variance of axis=0 is: {arr_to_variance}\", end=\"\\n\\n\")\n",
    "\n",
    "arr_to_variance = np.var(arr, axis=1)\n",
    "print(f\"variance of axis=1 is: {arr_to_variance}\", end=\"\\n\\n\")\n"
   ]
  }
 ],
 "metadata": {
  "kernelspec": {
   "display_name": "base",
   "language": "python",
   "name": "python3"
  },
  "language_info": {
   "codemirror_mode": {
    "name": "ipython",
    "version": 3
   },
   "file_extension": ".py",
   "mimetype": "text/x-python",
   "name": "python",
   "nbconvert_exporter": "python",
   "pygments_lexer": "ipython3",
   "version": "3.11.4"
  },
  "orig_nbformat": 4
 },
 "nbformat": 4,
 "nbformat_minor": 2
}
