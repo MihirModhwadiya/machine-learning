{
 "cells": [
  {
   "cell_type": "markdown",
   "metadata": {},
   "source": [
    "### Pra-5). Write a NumPy program to implement following operation\n"
   ]
  },
  {
   "cell_type": "markdown",
   "metadata": {},
   "source": [
    "#### to find the maximum and minimum value of a given flattened array"
   ]
  },
  {
   "cell_type": "code",
   "execution_count": 11,
   "metadata": {},
   "outputs": [
    {
     "name": "stdout",
     "output_type": "stream",
     "text": [
      "max value out of [[ 9 90 32 11  8  5 89]] is:90\n"
     ]
    }
   ],
   "source": [
    "import numpy as np\n",
    "\n",
    "arr_for_min = np.random.randint(1, 100, (1, 7))\n",
    "\n",
    "print(f\"max value out of {arr_for_min} is:{np.max(arr_for_min)}\")\n"
   ]
  },
  {
   "cell_type": "markdown",
   "metadata": {},
   "source": [
    "#### to compute the mean, standard deviation, and variance of a given array along the second axis\n"
   ]
  },
  {
   "cell_type": "code",
   "execution_count": 30,
   "metadata": {},
   "outputs": [
    {
     "name": "stdout",
     "output_type": "stream",
     "text": [
      "arr: [[41.2804676  38.21270796 66.23039241]\n",
      " [83.01341226 64.3145183  33.36832702]\n",
      " [78.28368323 35.66191079  4.60621524]]\n",
      "\n",
      "mean of axis=0 is: [67.52585436 46.06304568 34.73497822]\n",
      "\n",
      "mean of axis=1 is: [48.57452266 60.23208586 39.51726975]\n",
      "\n",
      "standard deviation of axis=0 is: [18.65847134 12.94768528 25.17651822]\n",
      "\n",
      "standard deviation of axis=1 is: [12.54724644 20.47206736 30.20198853]\n",
      "\n",
      "variance of axis=0 is: [348.13855269 167.64255406 633.85706975]\n",
      "\n",
      "variance of axis=1 is: [157.43339321 419.1055421  912.16011129]\n",
      "\n"
     ]
    }
   ],
   "source": [
    "arr = np.random.uniform(1, 100, (3, 3))\n",
    "\n",
    "print(f\"arr: {arr}\", end=\"\\n\\n\")\n",
    "\n",
    "\n",
    "arr_to_mean = np.mean(arr, axis=0)\n",
    "print(f\"mean of axis=0 is: {arr_to_mean}\", end=\"\\n\\n\")\n",
    "\n",
    "arr_to_mean = np.mean(arr, axis=1)\n",
    "print(f\"mean of axis=1 is: {arr_to_mean}\", end=\"\\n\\n\")\n",
    "\n",
    "\n",
    "arr_to_standard_deviation = np.std(arr, axis=0)\n",
    "print(\n",
    "    f\"standard deviation of axis=0 is: {arr_to_standard_deviation}\", end=\"\\n\\n\")\n",
    "\n",
    "arr_to_standard_deviation = np.std(arr, axis=1)\n",
    "print(\n",
    "    f\"standard deviation of axis=1 is: {arr_to_standard_deviation}\", end=\"\\n\\n\")\n",
    "\n",
    "\n",
    "arr_to_variance = np.var(arr, axis=0)\n",
    "print(f\"variance of axis=0 is: {arr_to_variance}\", end=\"\\n\\n\")\n",
    "\n",
    "arr_to_variance = np.var(arr, axis=1)\n",
    "print(f\"variance of axis=1 is: {arr_to_variance}\", end=\"\\n\\n\")\n"
   ]
  }
 ],
 "metadata": {
  "kernelspec": {
   "display_name": "base",
   "language": "python",
   "name": "python3"
  },
  "language_info": {
   "name": "python",
   "version": "3.11.4"
  },
  "orig_nbformat": 4
 },
 "nbformat": 4,
 "nbformat_minor": 2
}
